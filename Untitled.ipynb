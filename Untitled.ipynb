{
 "cells": [
  {
   "cell_type": "code",
   "execution_count": 8,
   "metadata": {},
   "outputs": [],
   "source": [
    "import requests\n",
    "from bs4 import BeautifulSoup"
   ]
  },
  {
   "cell_type": "code",
   "execution_count": 154,
   "metadata": {},
   "outputs": [],
   "source": [
    "#URL = 'https://www.amazon.com.br/Graphic-Cards-GeForce-Gigabyte-GV-N105TD5-4GD/dp/B01M6ZANMP?pf_rd_r=X5Y6S6V9QD022ZP4R01E&pf_rd_p=833b908c-b684-4739-ad1f-144d358d4115&pd_rd_r=63317ede-8b9c-4117-92ce-3fc2a88037e0&pd_rd_w=1F7ht&pd_rd_wg=dJ6BC&ref_=pd_gw_ci_mcx_mr_hp_d'\n",
    "URL='https://www.amazon.com.br/dp/B07KD8HB2G?pf_rd_r=D29RA550R1JCSYHTFQ48&pf_rd_p=02db29b2-088d-418f-9e34-e44378c60397'\n",
    "#URL='https://www.google.com/search?q=dolar&oq=dolar&aqs=chrome.0.69i59j35i39j0l6.1023j1j7&sourceid=chrome&ie=UTF-8'"
   ]
  },
  {
   "cell_type": "code",
   "execution_count": 155,
   "metadata": {},
   "outputs": [],
   "source": [
    "headers = {\"User-Agent\":'Mozilla/5.0 (Linux; Android 4.0.4; Galaxy Nexus Build/IMM76B) AppleWebKit/535.19 (KHTML, like Gecko) Chrome/18.0.1025.133 Mobile Safari/535.19'}"
   ]
  },
  {
   "cell_type": "code",
   "execution_count": 156,
   "metadata": {},
   "outputs": [],
   "source": [
    "page = requests.get(URL, headers=headers)"
   ]
  },
  {
   "cell_type": "code",
   "execution_count": 166,
   "metadata": {},
   "outputs": [],
   "source": [
    "soup = BeautifulSoup(page.content, features='lxml')"
   ]
  },
  {
   "cell_type": "code",
   "execution_count": 167,
   "metadata": {
    "collapsed": true
   },
   "outputs": [
    {
     "name": "stdout",
     "output_type": "stream",
     "text": [
      "<!DOCTYPE html>\n",
      "<!--[if lt IE 7]> <html lang=\"en-us\" class=\"a-no-js a-lt-ie9 a-lt-ie8 a-lt-ie7\"> <![endif]-->\n",
      "<!--[if IE 7]>    <html lang=\"en-us\" class=\"a-no-js a-lt-ie9 a-lt-ie8\"> <![endif]-->\n",
      "<!--[if IE 8]>    <html lang=\"en-us\" class=\"a-no-js a-lt-ie9\"> <![endif]-->\n",
      "<!--[if gt IE 8]><!-->\n",
      "<html class=\"a-no-js\" lang=\"pt-br\">\n",
      " <!--<![endif]-->\n",
      " <head>\n",
      "  <meta content=\"text/html; charset=utf-8\" http-equiv=\"content-type\"/>\n",
      "  <meta charset=\"utf-8\"/>\n",
      "  <meta content=\"IE=edge,chrome=1\" http-equiv=\"X-UA-Compatible\"/>\n",
      "  <title dir=\"ltr\">\n",
      "   Verificação de caracteres\n",
      "  </title>\n",
      "  <meta content=\"width=device-width\" name=\"viewport\"/>\n",
      "  <link href=\"https://images-na.ssl-images-amazon.com/images/G/01/AUIClients/AmazonUI-3c913031596ca78a3768f4e934b1cc02ce238101.secure.min._V1_.css\" rel=\"stylesheet\"/>\n",
      "  <script>\n",
      "   if (true === true) {\n",
      "    var ue_t0 = (+ new Date()),\n",
      "        ue_csm = window,\n",
      "        ue = { t0: ue_t0, d: function() { return (+new Date() - ue_t0); } },\n",
      "        ue_furl = \"fls-na.amazon.com\",\n",
      "        ue_mid = \"ATVPDKIKX0DER\",\n",
      "        ue_sid = (document.cookie.match(/session-id=([0-9-]+)/) || [])[1],\n",
      "        ue_sn = \"opfcaptcha.amazon.com\",\n",
      "        ue_id = 'G3ZX12WJA1AV720RH4E2';\n",
      "}\n",
      "  </script>\n",
      " </head>\n",
      " <body>\n",
      "  <!--\n",
      "        To discuss automated access to Amazon data please contact api-services-support@amazon.com.\n",
      "        For information about migrating to our APIs refer to our Marketplace APIs at https://developer.amazonservices.com/ref=rm_c_sv, or our Product Advertising API at https://affiliate-program.amazon.com/gp/advertising/api/detail/main.html/ref=rm_c_ac for advertising use cases.\n",
      "-->\n",
      "  <!--\n",
      "Correios.DoNotSend\n",
      "-->\n",
      "  <div class=\"a-container a-padding-double-large\" style=\"min-width:350px;padding:44px 0 !important\">\n",
      "   <div class=\"a-row a-spacing-double-large\" style=\"width: 350px; margin: 0 auto\">\n",
      "    <div class=\"a-row a-spacing-medium a-text-center\">\n",
      "     <i class=\"a-icon a-logo\">\n",
      "     </i>\n",
      "    </div>\n",
      "    <div class=\"a-box a-alert a-alert-info a-spacing-base\">\n",
      "     <div class=\"a-box-inner\">\n",
      "      <i class=\"a-icon a-icon-alert\">\n",
      "      </i>\n",
      "      <h4>\n",
      "       Digite os caracteres que você vê abaixo\n",
      "      </h4>\n",
      "      <p class=\"a-last\">\n",
      "       Desculpe pelo inconveniente. Para continuar realizando suas compras, digite as letras/números que você vê na imagem abaixo.\n",
      "      </p>\n",
      "     </div>\n",
      "    </div>\n",
      "    <div class=\"a-section\">\n",
      "     <div class=\"a-box a-color-offset-background\">\n",
      "      <div class=\"a-box-inner a-padding-extra-large\">\n",
      "       <form action=\"/errors/validateCaptcha\" method=\"get\" name=\"\">\n",
      "        <input name=\"amzn\" type=\"hidden\" value=\"pgJic6z/ultjRh5ibMcSwA==\"/>\n",
      "        <input name=\"amzn-r\" type=\"hidden\" value=\"/dp/B07KD8HB2G?pf_rd_r=D29RA550R1JCSYHTFQ48&amp;pf_rd_p=02db29b2-088d-418f-9e34-e44378c60397\"/>\n",
      "        <div class=\"a-row a-spacing-large\">\n",
      "         <div class=\"a-box\">\n",
      "          <div class=\"a-box-inner\">\n",
      "           <h4>\n",
      "            Escreva os caracteres que você vê nesta imagem:\n",
      "           </h4>\n",
      "           <div class=\"a-row a-text-center\">\n",
      "            <img src=\"https://images-na.ssl-images-amazon.com/captcha/twhhswbk/Captcha_qjixznqsiz.jpg\"/>\n",
      "           </div>\n",
      "           <div class=\"a-row a-spacing-base\">\n",
      "            <div class=\"a-row\">\n",
      "             <div class=\"a-column a-span6\">\n",
      "             </div>\n",
      "             <div class=\"a-column a-span6 a-span-last a-text-right\">\n",
      "              <a onclick=\"window.location.reload()\">\n",
      "               Tentar uma imagem diferente\n",
      "              </a>\n",
      "             </div>\n",
      "            </div>\n",
      "            <input autocapitalize=\"off\" autocomplete=\"off\" autocorrect=\"off\" class=\"a-span12\" id=\"captchacharacters\" name=\"field-keywords\" placeholder=\"Digitar caracteres\" spellcheck=\"false\" type=\"text\"/>\n",
      "           </div>\n",
      "          </div>\n",
      "         </div>\n",
      "        </div>\n",
      "        <div class=\"a-section a-spacing-extra-large\">\n",
      "         <div class=\"a-row\">\n",
      "          <span class=\"a-button a-button-primary a-span12\">\n",
      "           <span class=\"a-button-inner\">\n",
      "            <button class=\"a-button-text\" type=\"submit\">\n",
      "             Continuar comprando\n",
      "            </button>\n",
      "           </span>\n",
      "          </span>\n",
      "         </div>\n",
      "        </div>\n",
      "       </form>\n",
      "      </div>\n",
      "     </div>\n",
      "    </div>\n",
      "   </div>\n",
      "   <div class=\"a-divider a-divider-section\">\n",
      "    <div class=\"a-divider-inner\">\n",
      "    </div>\n",
      "   </div>\n",
      "   <div class=\"a-text-center a-spacing-small a-size-mini\">\n",
      "    <a href=\"https://www.amazon.com/gp/help/customer/display.html/ref=footer_cou?ie=UTF8&amp;nodeId=508088\">\n",
      "     Condições de Uso\n",
      "    </a>\n",
      "    <span class=\"a-letter-space\">\n",
      "    </span>\n",
      "    <span class=\"a-letter-space\">\n",
      "    </span>\n",
      "    <span class=\"a-letter-space\">\n",
      "    </span>\n",
      "    <span class=\"a-letter-space\">\n",
      "    </span>\n",
      "    <a href=\"https://www.amazon.com/gp/help/customer/display.html/ref=footer_privacy?ie=UTF8&amp;nodeId=468496\">\n",
      "     Políticas de Privacidade\n",
      "    </a>\n",
      "   </div>\n",
      "   <div class=\"a-text-center a-size-mini a-color-secondary\">\n",
      "    © 1996\n",
      "    <script>\n",
      "     new Date().getFullYear()>2010&&document.write(\"-\"+new Date().getFullYear());\n",
      "    </script>\n",
      "    , Amazon.com, Inc. ou suas afiliadas\n",
      "    <script>\n",
      "     if (true === true) {\n",
      "             document.write('<img src=\"https://fls-na.amaz'+'on.com/'+'1/oc-csi/1/OP/requestId=G3ZX12WJA1AV720RH4E2&js=1\" />');\n",
      "           };\n",
      "    </script>\n",
      "    <noscript>\n",
      "     <img src=\"https://fls-na.amazon.com/1/oc-csi/1/OP/requestId=G3ZX12WJA1AV720RH4E2&amp;js=0\"/>\n",
      "    </noscript>\n",
      "   </div>\n",
      "  </div>\n",
      "  <script>\n",
      "   if (true === true) {\n",
      "        var head = document.getElementsByTagName('head')[0],\n",
      "            prefix = \"https://images-na.ssl-images-amazon.com/images/G/01/csminstrumentation/\",\n",
      "            elem = document.createElement(\"script\");\n",
      "        elem.src = prefix + \"csm-captcha-instrumentation.min.js\";\n",
      "        head.appendChild(elem);\n",
      "\n",
      "        elem = document.createElement(\"script\");\n",
      "        elem.src = prefix + \"rd-script-6d68177fa6061598e9509dc4b5bdd08d.js\";\n",
      "        head.appendChild(elem);\n",
      "    }\n",
      "  </script>\n",
      " </body>\n",
      "</html>\n",
      "\n"
     ]
    }
   ],
   "source": [
    "print(soup.prettify())"
   ]
  },
  {
   "cell_type": "code",
   "execution_count": 152,
   "metadata": {},
   "outputs": [],
   "source": [
    "#dolar = soup.find(class_='MWvIVe')#.get_text()"
   ]
  },
  {
   "cell_type": "code",
   "execution_count": 151,
   "metadata": {},
   "outputs": [],
   "source": [
    "#dolar"
   ]
  },
  {
   "cell_type": "code",
   "execution_count": 171,
   "metadata": {},
   "outputs": [],
   "source": [
    "title = soup.find('a',id='ppd')#.get_text()\n",
    "#price = soup.find(id='priceblock_ourprice').get_text()"
   ]
  },
  {
   "cell_type": "code",
   "execution_count": 172,
   "metadata": {},
   "outputs": [
    {
     "name": "stdout",
     "output_type": "stream",
     "text": [
      "None\n"
     ]
    }
   ],
   "source": [
    "print(title)"
   ]
  },
  {
   "cell_type": "code",
   "execution_count": 170,
   "metadata": {},
   "outputs": [
    {
     "ename": "AttributeError",
     "evalue": "'NoneType' object has no attribute 'stripe'",
     "output_type": "error",
     "traceback": [
      "\u001b[1;31m---------------------------------------------------------------------------\u001b[0m",
      "\u001b[1;31mAttributeError\u001b[0m                            Traceback (most recent call last)",
      "\u001b[1;32m<ipython-input-170-45c841f62ceb>\u001b[0m in \u001b[0;36m<module>\u001b[1;34m\u001b[0m\n\u001b[1;32m----> 1\u001b[1;33m \u001b[0mprint\u001b[0m\u001b[1;33m(\u001b[0m\u001b[0mtitle\u001b[0m\u001b[1;33m.\u001b[0m\u001b[0mstripe\u001b[0m\u001b[1;33m(\u001b[0m\u001b[1;33m)\u001b[0m\u001b[1;33m)\u001b[0m\u001b[1;33m\u001b[0m\u001b[1;33m\u001b[0m\u001b[0m\n\u001b[0m",
      "\u001b[1;31mAttributeError\u001b[0m: 'NoneType' object has no attribute 'stripe'"
     ]
    }
   ],
   "source": [
    "print(title.stripe())"
   ]
  }
 ],
 "metadata": {
  "kernelspec": {
   "display_name": "Python 3",
   "language": "python",
   "name": "python3"
  },
  "language_info": {
   "codemirror_mode": {
    "name": "ipython",
    "version": 3
   },
   "file_extension": ".py",
   "mimetype": "text/x-python",
   "name": "python",
   "nbconvert_exporter": "python",
   "pygments_lexer": "ipython3",
   "version": "3.7.4"
  }
 },
 "nbformat": 4,
 "nbformat_minor": 2
}
